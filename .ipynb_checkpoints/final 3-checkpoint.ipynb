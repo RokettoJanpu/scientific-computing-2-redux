{
 "cells": [
  {
   "cell_type": "code",
   "execution_count": 1,
   "id": "d445c9d6",
   "metadata": {},
   "outputs": [],
   "source": [
    "import numpy as np\n",
    "import matplotlib.pyplot as plt\n",
    "import math"
   ]
  },
  {
   "cell_type": "code",
   "execution_count": null,
   "id": "91501e5a",
   "metadata": {},
   "outputs": [],
   "source": [
    "# f(u) in u_t + [f(u)]_x = 0\n",
    "def f(u):\n",
    "    return \n",
    "\n",
    "\n",
    "# initial condition\n",
    "def u_0(x):\n",
    "    if 0 <= x <= 1:\n",
    "        return 1\n",
    "    else:\n",
    "        return 0\n",
    "    \n",
    "    \n",
    "# exact sol\n",
    "def u_ex(x,t):\n",
    "    if t <= 2:\n",
    "        if x < 0:\n",
    "            return 0\n",
    "        elif 0 <= x < t:\n",
    "            return x/t\n",
    "        elif t <= x < 1+t/2:\n",
    "            return 1\n",
    "        elif x == 1+t/2:\n",
    "            return 0.5\n",
    "        else:\n",
    "            return 0\n",
    "    else:\n",
    "        if x < 0:\n",
    "            return 0\n",
    "        elif 0 <= x <= np.sqrt(2*t):\n",
    "            return x/t\n",
    "        else:\n",
    "            return 0"
   ]
  }
 ],
 "metadata": {
  "kernelspec": {
   "display_name": "Python 3 (ipykernel)",
   "language": "python",
   "name": "python3"
  },
  "language_info": {
   "codemirror_mode": {
    "name": "ipython",
    "version": 3
   },
   "file_extension": ".py",
   "mimetype": "text/x-python",
   "name": "python",
   "nbconvert_exporter": "python",
   "pygments_lexer": "ipython3",
   "version": "3.9.13"
  }
 },
 "nbformat": 4,
 "nbformat_minor": 5
}
