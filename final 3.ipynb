{
 "cells": [
  {
   "cell_type": "code",
   "execution_count": 1,
   "id": "06959c02",
   "metadata": {},
   "outputs": [],
   "source": [
    "import numpy as np\n",
    "import matplotlib.pyplot as plt\n",
    "import math"
   ]
  },
  {
   "cell_type": "code",
   "execution_count": 2,
   "id": "9d14a61d",
   "metadata": {},
   "outputs": [],
   "source": [
    "# f(p) in p_t + [f(p)]_x = 0\n",
    "def f(p):\n",
    "    return p - p**3 \n",
    "\n",
    "# initial condition\n",
    "def p_0(x):\n",
    "    if x < 0:\n",
    "        p0 = 0.1\n",
    "    if 0 <= x <= 1:\n",
    "        p0 = 0.1 + 0.8*x\n",
    "    if 1 < x:\n",
    "        p0 = 0.9\n",
    "    return p0\n",
    "\n",
    "# numerical flux\n",
    "def flux"
   ]
  },
  {
   "cell_type": "code",
   "execution_count": 3,
   "id": "325edc34",
   "metadata": {},
   "outputs": [],
   "source": [
    "def iterate_sol(u_curr,k,h):\n",
    "    nu = k/h\n",
    "    u = u_curr[n,:]\n",
    "    m = np.size(u)\n",
    "    v = np.zeros(m)\n",
    "    p = np.array(range(m))\n",
    "    \n",
    "    # Lax-Friedrichs\n",
    "    \n",
    "        \n",
    "    return v"
   ]
  },
  {
   "cell_type": "code",
   "execution_count": null,
   "id": "5f681858",
   "metadata": {},
   "outputs": [],
   "source": [
    "# parameters, mesh, initial conditions\n",
    "h = 0.05\n",
    "x_L = -2\n",
    "x_R = 2\n",
    "m = int((x_R-x_L)/h)\n",
    "k = h\n",
    "mesh = np.linspace(x_L,x_R,m+1)\n",
    "T = 10\n",
    "N = int(T/k)\n",
    "u = np.zeros((N+1,m+1))\n",
    "u[0,:] = [u_0(x) for x in mesh]\n",
    "\n",
    "# iterate u\n",
    "t_plot = range(T)\n",
    "for method in range(3):\n",
    "    for n in range(N):\n",
    "        t = n*k\n",
    "        if t in t_plot: # plot u at specific values of t\n",
    "            u_exact = [u_ex(x,t) for x in mesh]\n",
    "            plt.plot(mesh,u_exact,label='exact')\n",
    "            plt.plot(mesh,u[n,:],label='num')\n",
    "            plt.legend()\n",
    "            plt.xlabel('x')\n",
    "            plt.ylabel('u')\n",
    "            plt.title('sol at t = {} for method {}'.format(t,method))\n",
    "            plt.savefig('hw13 sol t = {} method {}.png'.format(int(t),method))\n",
    "            plt.show()\n",
    "        u[n+1,:] = iterate_advection_sol(u,k,h,method)"
   ]
  },
  {
   "cell_type": "code",
   "execution_count": 6,
   "id": "7d55a207",
   "metadata": {},
   "outputs": [
    {
     "data": {
      "text/plain": [
       "10"
      ]
     },
     "execution_count": 6,
     "metadata": {},
     "output_type": "execute_result"
    }
   ],
   "source": [
    "int(1/.1)"
   ]
  },
  {
   "cell_type": "code",
   "execution_count": null,
   "id": "471d5940",
   "metadata": {},
   "outputs": [],
   "source": []
  }
 ],
 "metadata": {
  "kernelspec": {
   "display_name": "Python 3 (ipykernel)",
   "language": "python",
   "name": "python3"
  },
  "language_info": {
   "codemirror_mode": {
    "name": "ipython",
    "version": 3
   },
   "file_extension": ".py",
   "mimetype": "text/x-python",
   "name": "python",
   "nbconvert_exporter": "python",
   "pygments_lexer": "ipython3",
   "version": "3.9.13"
  }
 },
 "nbformat": 4,
 "nbformat_minor": 5
}
