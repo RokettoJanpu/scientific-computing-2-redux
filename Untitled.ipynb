{
 "cells": [
  {
   "cell_type": "code",
   "execution_count": 1,
   "id": "6d7efe7b",
   "metadata": {},
   "outputs": [],
   "source": [
    "# We use numpy (for array related operations) and matplotlib (for plotting) \n",
    "# because they will help us a lot\n",
    "import numpy as np\n",
    "import matplotlib.pyplot as plt\n",
    "import matplotlib.animation as animation\n",
    "from matplotlib.animation import FuncAnimation"
   ]
  },
  {
   "cell_type": "code",
   "execution_count": 2,
   "id": "1396b177",
   "metadata": {},
   "outputs": [],
   "source": [
    "def calculate(u):\n",
    "  for k in range(0, max_iter_time-1, 1):\n",
    "    for i in range(1, plate_length-1, delta_x):\n",
    "      for j in range(1, plate_length-1, delta_x):\n",
    "        u[k + 1, i, j] = gamma * (u[k][i+1][j] + u[k][i-1][j] + u[k][i][j+1] + u[k][i][j-1] - 4*u[k][i][j]) + u[k][i][j]\n",
    "  \n",
    "  return u\n",
    "\n",
    "\n",
    "def plotheatmap(u_k, k):\n",
    "  # Clear the current plot figure\n",
    "  plt.clf()\n",
    "  plt.title(f\"Temperature at t = {k*delta_t:.3f} unit time\")\n",
    "  plt.xlabel(\"x\")\n",
    "  plt.ylabel(\"y\")\n",
    "  \n",
    "  # This is to plot u_k (u at time-step k)\n",
    "  plt.pcolormesh(u_k, cmap=plt.cm.jet, vmin=0, vmax=100)\n",
    "  plt.colorbar()\n",
    "  \n",
    "  return plt\n",
    "\n",
    "\n",
    "def animate(k):\n",
    "  plotheatmap(u[k], k)"
   ]
  },
  {
   "cell_type": "code",
   "execution_count": 3,
   "id": "61d1e31b",
   "metadata": {},
   "outputs": [
    {
     "name": "stderr",
     "output_type": "stream",
     "text": [
      "MovieWriter ffmpeg unavailable; using Pillow instead.\n"
     ]
    },
    {
     "data": {
      "image/png": "[encoded data removed]",
      "text/plain": [
       "<Figure size 640x480 with 2 Axes>"
      ]
     },
     "metadata": {},
     "output_type": "display_data"
    }
   ],
   "source": [
    "plate_length = 50\n",
    "max_iter_time = 1000\n",
    "\n",
    "alpha = 2.0\n",
    "delta_x = 1\n",
    "\n",
    "# Calculated params\n",
    "delta_t = (delta_x ** 2)/(4 * alpha)\n",
    "gamma = (alpha * delta_t) / (delta_x ** 2)\n",
    "\n",
    "# Initialize solution: the grid of u(k, i, j)\n",
    "u = np.empty((max_iter_time, plate_length, plate_length))\n",
    "\n",
    "# Initial condition everywhere inside the grid\n",
    "u_initial = 0.0\n",
    "\n",
    "# Boundary conditions (fixed temperature)\n",
    "u_top = 100.0\n",
    "u_left = 0.0\n",
    "u_bottom = 0.0\n",
    "u_right = 0.0\n",
    "\n",
    "# Set the initial condition\n",
    "u.fill(u_initial)\n",
    "\n",
    "# Set the boundary conditions\n",
    "u[:, (plate_length-1):, :] = u_top\n",
    "u[:, :, :1] = u_left\n",
    "u[:, :1, 1:] = u_bottom\n",
    "u[:, :, (plate_length-1):] = u_right\n",
    "\n",
    "anim = animation.FuncAnimation(plt.figure(), animate, interval=1, frames=max_iter_time, repeat=False)\n",
    "anim.save(\"heat_equation_solution.gif\")"
   ]
  },
  {
   "cell_type": "code",
   "execution_count": null,
   "id": "10743c3e",
   "metadata": {},
   "outputs": [],
   "source": []
  }
 ],
 "metadata": {
  "kernelspec": {
   "display_name": "Python 3 (ipykernel)",
   "language": "python",
   "name": "python3"
  },
  "language_info": {
   "codemirror_mode": {
    "name": "ipython",
    "version": 3
   },
   "file_extension": ".py",
   "mimetype": "text/x-python",
   "name": "python",
   "nbconvert_exporter": "python",
   "pygments_lexer": "ipython3",
   "version": "3.9.13"
  }
 },
 "nbformat": 4,
 "nbformat_minor": 5
}
